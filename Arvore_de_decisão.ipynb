{
  "nbformat": 4,
  "nbformat_minor": 0,
  "metadata": {
    "colab": {
      "provenance": [],
      "include_colab_link": true
    },
    "kernelspec": {
      "name": "python3",
      "display_name": "Python 3"
    },
    "language_info": {
      "name": "python"
    }
  },
  "cells": [
    {
      "cell_type": "markdown",
      "metadata": {
        "id": "view-in-github",
        "colab_type": "text"
      },
      "source": [
        "<a href=\"https://colab.research.google.com/github/maycom306/DecisionTree_diabetes/blob/main/Arvore_de_decis%C3%A3o.ipynb\" target=\"_parent\"><img src=\"https://colab.research.google.com/assets/colab-badge.svg\" alt=\"Open In Colab\"/></a>"
      ]
    },
    {
      "cell_type": "markdown",
      "source": [
        "<h1>Implementação do J48\n",
        "\n",
        "<h3>O processo foi feito nas seguintes etapas\n",
        "  \n",
        "  \n",
        "1. Transformar o CSV em um dataframe\n",
        "2. Separar os recursos dos rotulos\n",
        "3. Dividir em treino e teste\n",
        "4. Configurar o classificador\n",
        "5. Previsões"
      ],
      "metadata": {
        "id": "GzfblKdZPWVE"
      }
    },
    {
      "cell_type": "markdown",
      "source": [
        "<h1> Como um modelo de descisão J48 funciona?\n",
        "\n",
        "<h3> O j48 utiliza o \"ganho de informação\" para decidir qual caracteristicas utilizar em cada nó\n",
        "<h3> O codigo segue criando nó (decisões) e folhas (resultados)\n",
        "<h3> Por fim é criado a \"poda\" para simplificar a árvore e melhorar a generalização removendo nó que não contribui"
      ],
      "metadata": {
        "id": "C8YVPrQvR2Bv"
      }
    },
    {
      "cell_type": "code",
      "source": [
        "#Importações\n",
        "import pandas as pd #manipular dados.\n",
        "from sklearn.model_selection import train_test_split, cross_val_score #dividir os conjuntos de dados em treino e teste.\n",
        "from sklearn.tree import DecisionTreeClassifier #como o j48 é um tipo de arvore de decisão é necessario importa a arvore de decisão do decisiontree.\n",
        "from sklearn.metrics import classification_report, confusion_matrix, accuracy_score #meios de avaliação."
      ],
      "metadata": {
        "id": "2K4lvu02Rl6B"
      },
      "execution_count": null,
      "outputs": []
    },
    {
      "source": [
        "\n",
        "# Caminho para o seu arquivo CSV.\n",
        "arquivo_csv = \"/content/diabetes_balanceado.csv\"\n",
        "\n",
        "# Nomes das colunas do arquivo CSV.\n",
        "nomes_colunas = ['preg', 'plas', 'pres', 'test', 'mass', 'pedi', 'age', 'class']\n",
        "\n",
        "# Carregar o arquivo CSV para um DataFrame do pandas que eu atribui o nome \"dados\", especificando que a primeira linha contém os nomes das coluna  (header= 0).\n",
        "dados = pd.read_csv(arquivo_csv, names=nomes_colunas, header=0)\n",
        "\n",
        "# Separar as características (X) e o rótulo (y)\n",
        "X = dados.drop('class', axis=1)  # Características (atributos), excluindo a coluna 'class' (caracteristicas: recursos para prever Y).\n",
        "y = dados['class' ]  # Rótulo (variável-alvo), apenas a coluna 'class' (rotulos: valores que queremos prever).\n",
        "\n",
        "# Dividir os dados em conjunto de treino e teste, onde 30% dos dados são usados para teste e o random state serve para o codigo fazer a mesma divisão dos dados,\n",
        "# assim evita resultados diferentes.\n",
        "X_treino, X_teste, y_treino, y_teste = train_test_split(X, y, test_size=0.3, random_state=1)\n",
        "\n",
        "# Cria uma instancia do classificar com o nome de j48, utilza o criterio \"gini\" uma medida de impureza usada para decidir os nós da arvore.\n",
        "#min samplo: significa que um nó será dividido se contiver pelo menos 2 amostras se tiver mais valores a arvore pode ficar menos complexa.\n",
        "J48 = DecisionTreeClassifier(criterion='gini', min_samples_split=2, random_state=1)\n",
        "#o .fit serve para treinar o modelo\n",
        "J48.fit(X_treino, y_treino)\n",
        "\n",
        "# Avaliação usando validação cruzada com 10 folds ou seja, o dataset é dividido em 10 partes, 9 de treino e 1 de teste e o cross_val_ score calcula a metrica de desempenho especifica.\n",
        "pontuacoes_cv = cross_val_score(J48, X, y, cv=10)\n",
        "print(f\"{'='*40}\\nPontuações de validação cruzada:\\n{'='*40}\")\n",
        "print(pontuacoes_cv)\n",
        "print(f\"\\nPontuação média de validação cruzada: {pontuacoes_cv.mean():.4f}\\n\")\n",
        "\n",
        "# Depois do treinamento fazer a previsão no conjunto de teste\n",
        "y_predito = J48.predict(X_teste)\n",
        "\n",
        "# Avaliação das previsões\n",
        "print(f\"{'='*40}\\nResultados da Avaliação\\n{'='*40}\")\n",
        "print(f\"Acurácia: {accuracy_score(y_teste, y_predito):.4f}\\n\")\n",
        "print(\"Relatório de Classificação:\")\n",
        "print(classification_report(y_teste, y_predito)) #relatorio de classificação\n",
        "print(f\"{'='*40}\\nMatriz de Confusão\\n{'='*40}\")\n",
        "print(confusion_matrix(y_teste, y_predito))\n"
      ],
      "cell_type": "code",
      "metadata": {
        "colab": {
          "base_uri": "https://localhost:8080/"
        },
        "id": "oGDu7IkjLfLh",
        "outputId": "aab15ac7-ecbb-444f-f4ef-b88609c4fbc8"
      },
      "execution_count": null,
      "outputs": [
        {
          "output_type": "stream",
          "name": "stdout",
          "text": [
            "========================================\n",
            "Pontuações de validação cruzada:\n",
            "========================================\n",
            "[0.77777778 0.75925926 0.7037037  0.64814815 0.77777778 0.77777778\n",
            " 0.8490566  0.77358491 0.75471698 0.75471698]\n",
            "\n",
            "Pontuação média de validação cruzada: 0.7577\n",
            "\n",
            "========================================\n",
            "Resultados da Avaliação\n",
            "========================================\n",
            "Acurácia: 0.7578\n",
            "\n",
            "Relatório de Classificação:\n",
            "              precision    recall  f1-score   support\n",
            "\n",
            "           0       0.71      0.81      0.75        74\n",
            "           1       0.82      0.71      0.76        87\n",
            "\n",
            "    accuracy                           0.76       161\n",
            "   macro avg       0.76      0.76      0.76       161\n",
            "weighted avg       0.77      0.76      0.76       161\n",
            "\n",
            "========================================\n",
            "Matriz de Confusão\n",
            "========================================\n",
            "[[60 14]\n",
            " [25 62]]\n"
          ]
        }
      ]
    }
  ]
}